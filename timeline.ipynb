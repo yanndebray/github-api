{
 "cells": [
  {
   "cell_type": "markdown",
   "metadata": {},
   "source": [
    "# GitHub timeline"
   ]
  },
  {
   "cell_type": "markdown",
   "metadata": {},
   "source": [
    "## GraphQL API"
   ]
  },
  {
   "cell_type": "code",
   "execution_count": 13,
   "metadata": {},
   "outputs": [
    {
     "name": "stdout",
     "output_type": "stream",
     "text": [
      "User info: {'name': 'Yann Debray', 'login': 'yanndebray', 'url': 'https://github.com/yanndebray', 'repositories': {'edges': [{'node': {'name': 'github-api', 'createdAt': '2025-02-02T21:15:36Z', 'url': 'https://github.com/yanndebray/github-api'}}, {'node': {'name': 'python-training', 'createdAt': '2025-01-20T22:12:49Z', 'url': 'https://github.com/yanndebray/python-training'}}, {'node': {'name': 'sbw-live-coding', 'createdAt': '2025-01-13T17:02:30Z', 'url': 'https://github.com/rpelissier/sbw-live-coding'}}]}}\n"
     ]
    }
   ],
   "source": [
    "import requests, os\n",
    "from dotenv import load_dotenv\n",
    "load_dotenv()\n",
    "\n",
    "# 1) Personal access token from GitHub\n",
    "TOKEN = os.getenv('GITHUB_API_TOKEN')\n",
    "\n",
    "# 2) GraphQL endpoint\n",
    "GITHUB_GRAPHQL_URL = \"https://api.github.com/graphql\"\n",
    "\n",
    "# 3) Prepare headers\n",
    "headers = {\n",
    "    \"Authorization\": f\"Bearer {TOKEN}\",  # NOTE: 'Bearer' not 'token'\n",
    "    \"Content-Type\": \"application/json\"\n",
    "}\n",
    "\n",
    "# 4) Example GraphQL query\n",
    "# In this sample, we'll request:\n",
    "#   - The user's name and login\n",
    "#   - A snippet of their public repositories\n",
    "#   - (Any additional fields you'd like)\n",
    "query = \"\"\"\n",
    "query($userLogin: String!) {\n",
    "  user(login: $userLogin) {\n",
    "    name\n",
    "    login\n",
    "    url\n",
    "    repositories(first: 3, orderBy: {field: CREATED_AT, direction: DESC}) {\n",
    "      edges {\n",
    "        node {\n",
    "          name\n",
    "          createdAt\n",
    "          url\n",
    "        }\n",
    "      }\n",
    "    }\n",
    "  }\n",
    "}\n",
    "\"\"\"\n",
    "\n",
    "# 5) Variables for that query\n",
    "variables = {\"userLogin\": \"yanndebray\"}\n",
    "\n",
    "# 6) Make the request\n",
    "resp = requests.post(\n",
    "    GITHUB_GRAPHQL_URL,\n",
    "    headers=headers,\n",
    "    json={\"query\": query, \"variables\": variables},\n",
    ")\n",
    "\n",
    "# 7) Parse the JSON response\n",
    "data = resp.json()\n",
    "\n",
    "# 8) Inspect the result\n",
    "if \"errors\" in data:\n",
    "    print(\"Errors returned by the API:\", data[\"errors\"])\n",
    "else:\n",
    "    user_info = data[\"data\"][\"user\"]\n",
    "    print(\"User info:\", user_info)\n"
   ]
  },
  {
   "cell_type": "markdown",
   "metadata": {},
   "source": [
    "## Python API"
   ]
  },
  {
   "cell_type": "code",
   "execution_count": 1,
   "metadata": {},
   "outputs": [],
   "source": [
    "import datetime\n",
    "import numpy as np\n",
    "import matplotlib.pyplot as plt\n",
    "from github import Github\n",
    "from collections import Counter"
   ]
  },
  {
   "cell_type": "code",
   "execution_count": 2,
   "metadata": {},
   "outputs": [],
   "source": [
    "g = Github()\n",
    "\n",
    "user = g.get_user(\"yanndebray\")\n",
    "\n",
    "# We’ll look back 365 days from now\n",
    "today = datetime.datetime.utcnow()\n",
    "one_year_ago = (today - datetime.timedelta(days=365)).replace(tzinfo=datetime.timezone.utc)\n",
    "\n",
    "# Count how many events occurred on each day\n",
    "day_counts = Counter()\n",
    "\n",
    "# get_events() returns the 30 most recent public events, then you can paginate further if needed\n",
    "events = user.get_events()\n",
    "for event in events:\n",
    "    event_date = event.created_at\n",
    "    if event_date >= one_year_ago:\n",
    "        # We only care about the YYYY-MM-DD portion\n",
    "        day_str = event_date.strftime(\"%Y-%m-%d\")\n",
    "        day_counts[day_str] += 1\n",
    "\n",
    "# day_counts now maps e.g. \"2024-05-23\" -> <count of events on that day>\n"
   ]
  },
  {
   "cell_type": "code",
   "execution_count": 3,
   "metadata": {},
   "outputs": [
    {
     "name": "stdout",
     "output_type": "stream",
     "text": [
      "Fetched 13 events (likely covering ~90 days).\n"
     ]
    }
   ],
   "source": [
    "\n",
    "one_year_ago = datetime.datetime.now(datetime.timezone.utc) - datetime.timedelta(days=365)\n",
    "\n",
    "all_events = []\n",
    "events = user.get_events()  # This returns a PaginatedList\n",
    "page = 0\n",
    "\n",
    "while True:\n",
    "    page_events = events.get_page(page)\n",
    "    if not page_events:\n",
    "        break\n",
    "\n",
    "    for e in page_events:\n",
    "        # Stop if we've gone beyond one year\n",
    "        if e.created_at < one_year_ago:\n",
    "            break\n",
    "        all_events.append(e)\n",
    "\n",
    "    page += 1\n",
    "\n",
    "print(f\"Fetched {len(all_events)} events (likely covering ~90 days).\")"
   ]
  },
  {
   "cell_type": "code",
   "execution_count": 4,
   "metadata": {},
   "outputs": [],
   "source": [
    "# We’ll build an array of shape (7 rows, 53 columns) full of zeros\n",
    "heatmap = np.zeros((7, 53), dtype=int)\n",
    "\n",
    "# The leftmost column is the earliest Monday in our range, so find the Monday before (or on) one_year_ago:\n",
    "start_date = one_year_ago\n",
    "# Shift back to the most recent Monday (so we align weeks in columns).\n",
    "while start_date.weekday() != 0:  # Monday is weekday() == 0\n",
    "    start_date -= datetime.timedelta(days=1)\n",
    "\n",
    "# Make today timezone-aware\n",
    "today = today.replace(tzinfo=datetime.timezone.utc)\n",
    "\n",
    "# Fill the heatmap\n",
    "current_date = start_date\n",
    "for col in range(53):\n",
    "    for row in range(7):\n",
    "        date_str = current_date.strftime(\"%Y-%m-%d\")\n",
    "        # Use our counter; default to 0 if not in the Counter\n",
    "        heatmap[row, col] = day_counts[date_str]\n",
    "        current_date += datetime.timedelta(days=1)\n",
    "\n",
    "        # If we pass today, we can stop\n",
    "        if current_date > today:\n",
    "            break\n",
    "    if current_date > today:\n",
    "        break"
   ]
  },
  {
   "cell_type": "code",
   "execution_count": 5,
   "metadata": {},
   "outputs": [
    {
     "data": {
      "image/png": "[encoded data removed]",
      "text/plain": [
       "<Figure size 1200x300 with 1 Axes>"
      ]
     },
     "metadata": {},
     "output_type": "display_data"
    }
   ],
   "source": [
    "fig, ax = plt.subplots(figsize=(12, 3))\n",
    "\n",
    "# We flip the rows so that row=0 is Monday at the top.\n",
    "# If you prefer Sunday at top, reorder accordingly.\n",
    "ax.imshow(\n",
    "    np.flipud(heatmap), \n",
    "    cmap=\"Greens\",       # GitHub-like green colormap\n",
    "    aspect=\"auto\",\n",
    "    interpolation=\"nearest\"\n",
    ")\n",
    "\n",
    "ax.set_title(\"Approx. Contributions Heatmap for @yanndebray (Last 12 Months)\")\n",
    "ax.set_xticks([])\n",
    "ax.set_yticks([])\n",
    "\n",
    "plt.show()\n"
   ]
  }
 ],
 "metadata": {
  "kernelspec": {
   "display_name": "env",
   "language": "python",
   "name": "python3"
  },
  "language_info": {
   "codemirror_mode": {
    "name": "ipython",
    "version": 3
   },
   "file_extension": ".py",
   "mimetype": "text/x-python",
   "name": "python",
   "nbconvert_exporter": "python",
   "pygments_lexer": "ipython3",
   "version": "3.10.10"
  }
 },
 "nbformat": 4,
 "nbformat_minor": 2
}
