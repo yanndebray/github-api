{
 "cells": [
  {
   "cell_type": "code",
   "execution_count": null,
   "id": "9f2153a9-4e2f-42fb-892c-72de891b4b6f",
   "metadata": {},
   "outputs": [],
   "source": [
    "import os\n",
    "import requests\n",
    "from github import Github\n",
    "from dotenv import load_dotenv\n",
    "#%% public API\n",
    "g = Github()"
   ]
  },
  {
   "cell_type": "code",
   "execution_count": null,
   "id": "b17d50f3-32c2-4499-acab-bb03053a258b",
   "metadata": {},
   "outputs": [
    {
     "name": "stdout",
     "output_type": "stream",
     "text": [
      "awesome-movies\n",
      "cheers\n",
      "codespaces-jupyter-matlab\n",
      "earthquake\n",
      "eclipse\n",
      "farmer\n",
      "GPT-Journey\n",
      "human-activity-classification\n",
      "immo\n",
      "Integrate_Python_code_with_Simulink\n",
      "liveapp\n",
      "Mass-Spring-Damper\n",
      "MATLAB-Live-Task-for-Python\n",
      "matlab-with-python-book\n",
      "matlabApp\n",
      "mechanical\n",
      "miniforge\n",
      "MITapp\n",
      "physionet\n",
      "programming-GPTs\n",
      "python-training\n",
      "quantGPT\n",
      "scheduled-task\n",
      "Solar-Panel-Estimator\n",
      "Summit2024-Prework\n",
      "test\n",
      "weather\n",
      "weather-matlab-python\n",
      "weatherGPT\n",
      "x0-Diebold-Li-Kalman-Forecast\n",
      "x0-swap-pricer\n",
      "yanndebray\n"
     ]
    }
   ],
   "source": [
    "def list_repos(username):\n",
    "    user = g.get_user(username)\n",
    "    for repo in user.get_repos():\n",
    "        print(repo.name)\n",
    "\n",
    "list_repos(\"yanndebray\")"
   ]
  },
  {
   "cell_type": "code",
   "execution_count": null,
   "id": "6f868fe9-2b66-4b00-b014-4ef88476d4f8",
   "metadata": {},
   "outputs": [
    {
     "name": "stdout",
     "output_type": "stream",
     "text": [
      "Number of public repos : 32\n",
      "Repos for yanndebray:\n",
      "awesome-movies\n",
      "cheers\n",
      "codespaces-jupyter-matlab\n",
      "earthquake\n",
      "eclipse\n",
      "farmer\n",
      "GPT-Journey\n",
      "human-activity-classification\n",
      "immo\n",
      "Integrate_Python_code_with_Simulink\n",
      "liveapp\n",
      "Mass-Spring-Damper\n",
      "MATLAB-Live-Task-for-Python\n",
      "matlab-with-python-book\n",
      "matlabApp\n",
      "mechanical\n",
      "miniforge\n",
      "MITapp\n",
      "physionet\n",
      "programming-GPTs\n",
      "python-training\n",
      "quantGPT\n",
      "scheduled-task\n",
      "Solar-Panel-Estimator\n",
      "Summit2024-Prework\n",
      "test\n",
      "weather\n",
      "weather-matlab-python\n",
      "weatherGPT\n",
      "x0-Diebold-Li-Kalman-Forecast\n",
      "x0-swap-pricer\n",
      "yanndebray\n"
     ]
    }
   ],
   "source": [
    "username = \"yanndebray\"\n",
    "user = g.get_user(username)\n",
    "repos = user.get_repos()\n",
    "print(\"Number of public repos :\",len(list(repos)))\n",
    "print(f\"Repos for {username}:\")\n",
    "for repo in repos:\n",
    "    print(repo.name)"
   ]
  },
  {
   "cell_type": "code",
   "execution_count": null,
   "id": "879e03e4-b1a6-44d2-9831-cd7523812bf9",
   "metadata": {},
   "outputs": [
    {
     "name": "stdout",
     "output_type": "stream",
     "text": [
      "Repo matlab-with-python-book has 71 stars and 19 forks\n"
     ]
    }
   ],
   "source": [
    "#%% Get info about a specific repo\n",
    "\n",
    "repo = user.get_repo(\"matlab-with-python-book\")\n",
    "repo = g.get_repo(\"yanndebray/matlab-with-python-book\")\n",
    "print(f\"Repo {repo.name} has {repo.stargazers_count} stars and {repo.forks_count} forks\")"
   ]
  },
  {
   "cell_type": "code",
   "execution_count": null,
   "id": "d01c8475-0402-4aca-bafc-80a43bcf57bb",
   "metadata": {},
   "outputs": [
    {
     "name": "stdout",
     "output_type": "stream",
     "text": [
      "Repo matlab-with-python-book has 6 open issues\n",
      "Error using py.urllib.parse.urlparse\n",
      "Add more on VSCode\n",
      "Add chapter on deployment\n",
      "Add chapter on testing\n",
      "Add Simulink resources\n",
      "Add more resources about AI interop\n"
     ]
    }
   ],
   "source": [
    "#%% Get open issues for a repo\n",
    "\n",
    "issues = repo.get_issues()\n",
    "print(f\"Repo {repo.name} has {len(list(issues))} open issues\")\n",
    "for issue in issues:\n",
    "    print(issue.title)"
   ]
  },
  {
   "cell_type": "code",
   "execution_count": null,
   "id": "739abbc8-06ec-493e-80fe-43017d678688",
   "metadata": {},
   "outputs": [
    {
     "name": "stdout",
     "output_type": "stream",
     "text": [
      "Repo matlab-with-python-book has 11 issues\n",
      "Add support for GitHub codespaces  -  closed\n",
      "Chap 8 - change pip retrieval mechanism  -  closed\n",
      "Error using py.urllib.parse.urlparse  -  open\n",
      "Add more on VSCode  -  open\n",
      "Add chapter on deployment  -  open\n",
      "Add chapter on testing  -  open\n",
      "Add support for GitHub codespaces  -  closed\n",
      "Add Simulink resources  -  open\n",
      "Add Chap 7 on Simulink with Python  -  closed\n",
      "Add video about calling MATLAB from Python  -  closed\n",
      "Add more resources about AI interop  -  open\n"
     ]
    }
   ],
   "source": [
    "#%% Get issues for a repo\n",
    "\n",
    "issues = repo.get_issues(state=\"all\")\n",
    "print(f\"Repo {repo.name} has {len(list(issues))} issues\")\n",
    "for issue in issues:\n",
    "    print(issue.title,\" - \", issue.state)"
   ]
  },
  {
   "cell_type": "code",
   "execution_count": null,
   "id": "b141988b-5f8d-41bb-adb2-9032fb47e0a1",
   "metadata": {},
   "outputs": [
    {
     "name": "stdout",
     "output_type": "stream",
     "text": [
      "Repo matlab-with-python-book has 71 stars and 19 forks\n",
      "# MATLAB with Python Book\n",
      "\n",
      "[![Open in MATLAB Online](https://www.mathworks.com/images/responsive/global/open-in-matlab-online.svg)](https://matlab.mathworks.com/open/github/v1?repo=yanndebray/matlab-with-python-book&file=code/README.mlx)\n",
      "[![View MATLAB with Python Book on File Exchange](https://www.mathworks.com/matlabcentral/images/matlab-file-exchange.svg)](https://www.mathworks.com/matlabcentral/fileexchange/156467-matlab-with-python-book)\n",
      "\n",
      "Engineers and scientists that I meet every day think about MATLAB & Python as MATLAB vs Python. \n",
      "\n",
      "The goal of this book is to prove to them that it is possible to think about it as MATLAB with Python.\n",
      "\n",
      "Find the Book on [Amazon](https://www.amazon.com/MATLAB-Python-Yann-Debray/dp/B0CNHT6GJH)\n",
      "\n",
      "The content is open-source on GitHub \n",
      "[yanndebray/matlab-with-python-book](https://github.com/yanndebray/matlab-with-python-book/)\n",
      "\n",
      "<img align=\"right\" src=\"./media/python_drawing_on_white_background_with_blue_and_orange_colors.png\" height=\"400px\"/>\n",
      "\n",
      "### Table of content\n",
      "\n",
      "1. [Introduction](1_intro.md)\n",
      "\n",
      "    1.1. A brief history of scientific computing\n",
      "\n",
      "    1.2. About the author\n",
      "\n",
      "    1.3. Open-source vs Commercial\n",
      "\n",
      "    1.4. Who is this book for?\n",
      "\n",
      "2. [End-to-end project with MATLAB & Python](2_End-to-end_project_with_MATLAB_and_Python.md)\n",
      "\n",
      "    2.1. Call Python from MATLAB \n",
      "\n",
      "    2.2. Call MATLAB from Python\n",
      "\n",
      "    2.3. Generate a Python package from a set of MATLAB functions\n",
      "\n",
      "3. [Set-up MATLAB and Python](3_Set-up_MATLAB_and_Python.md)\n",
      "\n",
      "    3.1. Install Python\n",
      "\n",
      "    3.2. Install Anaconda or other Python distribution\n",
      "\n",
      "    3.3. Manage your PATH\n",
      "\n",
      "    3.4. Install additional Python packages\n",
      "\n",
      "    3.5. Set up a Python virtual environment\n",
      "\n",
      "    3.6. Set up a Python Development Environment\n",
      "\n",
      "    3.7. Connect MATLAB to Python\n",
      "\n",
      "    3.8. Install the MATLAB Engine for Python\n",
      "\n",
      "4. [Call Python from MATLAB](4_Call_Python_from_MATLAB.md)\n",
      "\n",
      "    4.1. Execute Python statements and files in MATLAB\n",
      "\n",
      "    4.2. Execute Python code in a MATLAB Live Task\n",
      "\n",
      "    4.3. Basic syntax of calling Python functions from MATLAB\n",
      "\n",
      "    4.4. Call Python User Defined Functions from MATLAB\n",
      "\n",
      "    4.5. Call Python community packages from MATLAB\n",
      "\n",
      "    4.6. Debug Python code called by MATLAB\n",
      "\n",
      "    4.7. Mapping data between Python and MATLAB\n",
      "\n",
      "5. [Call Python AI libraries from MATLAB](5_Call_Python_AI_libraries_from_MATLAB.md)\n",
      "\n",
      "    5.1. Call Scikit-learn from MATLAB\n",
      "\n",
      "    5.2. Call TensorFlow from MATLAB\n",
      "\n",
      "    5.3. Import TensorFlow model into MATLAB\n",
      "\n",
      "6. [Call MATLAB from Python](6_Call_MATLAB_from_Python.md)\n",
      "    \n",
      "    6.1. Getting started with the MATLAB Engine API for Python\n",
      "\n",
      "    6.2. Facilitate AI development by using MATLAB Apps\n",
      "\n",
      "    6.3. Leverage the work from the MATLAB community\n",
      "\n",
      "7. [Simulink with Python](7_Simulink_with_Python.md)\n",
      "\n",
      "    7.1. Bring Python code into Simulink as a library for co-execution\n",
      "\n",
      "    7.2. Integrate TensorFlow and PyTorch models for both simulation and code generation\n",
      "\n",
      "    7.3. Simulate a Simulink model directly from Python\n",
      "\n",
      "    7.4. Export a Simulink model as a Python package for deployment\n",
      "\n",
      "7. [Resources](8_Resources.md)\n",
      "\n",
      "    8.1. Getting Python packages on MATLAB Online\n",
      "    \n",
      "    8.2. Generate this book with Quarto and Pandoc\n",
      "\n",
      "MATLAB&reg; is a registered trademarks of The MathWorks, Inc.\n",
      "\n",
      "Python&reg; is a registered trademark of the Python Software Foundation.\n",
      "\n"
     ]
    }
   ],
   "source": [
    "#%% Get info about a specific repo\n",
    "\n",
    "# repo = user.get_repo(\"matlab-with-python-book\")\n",
    "repo = g.get_repo(\"yanndebray/matlab-with-python-book\")\n",
    "print(f\"Repo {repo.name} has {repo.stargazers_count} stars and {repo.forks_count} forks\")\n",
    "# Get the README\n",
    "readme = repo.get_readme()\n",
    "print(readme.decoded_content.decode())"
   ]
  },
  {
   "cell_type": "code",
   "execution_count": null,
   "id": "0f4bab36-33e8-4e4d-b442-cbbc20da66f2",
   "metadata": {},
   "outputs": [
    {
     "name": "stdout",
     "output_type": "stream",
     "text": [
      "Repo matlab-with-python-book has 1 contributors\n"
     ]
    }
   ],
   "source": [
    "#%% Get the contributors\n",
    "\n",
    "contributors = repo.get_contributors()\n",
    "print(f\"Repo {repo.name} has {len(list(contributors))} contributors\")"
   ]
  },
  {
   "cell_type": "code",
   "execution_count": null,
   "id": "b98c5bc6-5680-432e-a1a8-8c002de68c4b",
   "metadata": {},
   "outputs": [
    {
     "name": "stdout",
     "output_type": "stream",
     "text": [
      "Repo matlab-with-python-book is written in Jupyter Notebook, Python, MATLAB\n"
     ]
    }
   ],
   "source": [
    "#%% Get the languages\n",
    "\n",
    "languages = repo.get_languages()\n",
    "print(f\"Repo {repo.name} is written in {', '.join(languages.keys())}\")"
   ]
  },
  {
   "cell_type": "code",
   "execution_count": null,
   "id": "3dda0952-8bd8-4e35-a6ef-31357ac3647b",
   "metadata": {},
   "outputs": [
    {
     "name": "stdout",
     "output_type": "stream",
     "text": [
      "Jupyter Notebook 4166133\n",
      "Python 16582\n",
      "MATLAB 10656\n"
     ]
    }
   ],
   "source": [
    "#%% Get the languages\n",
    "\n",
    "languages = repo.get_languages()\n",
    "for lang in languages:\n",
    "    print(lang, languages[lang])"
   ]
  },
  {
   "cell_type": "code",
   "execution_count": null,
   "metadata": {},
   "outputs": [
    {
     "data": {
      "text/plain": [
       "{'Jupyter Notebook': 4166133, 'Python': 16582, 'MATLAB': 10656}"
      ]
     },
     "execution_count": 27,
     "metadata": {},
     "output_type": "execute_result"
    }
   ],
   "source": [
    "languages"
   ]
  },
  {
   "cell_type": "code",
   "execution_count": null,
   "id": "92477baf-70e0-48d4-b7d3-67f60e7411f0",
   "metadata": {},
   "outputs": [
    {
     "name": "stdout",
     "output_type": "stream",
     "text": [
      "Jupyter Notebook 4068 KB\n",
      "Python 16 KB\n",
      "MATLAB 10 KB\n"
     ]
    }
   ],
   "source": [
    "#%% Get the languages\n",
    "\n",
    "# https://docs.github.com/en/rest/repos/repos?apiVersion=2022-11-28#list-repository-languages\n",
    "# Lists languages for the specified repository. \n",
    "# The value shown for each language is the number of bytes of code written in that language.\n",
    "languages = repo.get_languages()\n",
    "for lang in languages:\n",
    "    print(lang, int(languages[lang] / 1024), \"KB\")"
   ]
  },
  {
   "cell_type": "code",
   "execution_count": null,
   "id": "c66a6131-e816-4d33-b41b-7feffa06ca02",
   "metadata": {},
   "outputs": [
    {
     "name": "stdout",
     "output_type": "stream",
     "text": [
      "Repo matlab-with-python-book has 5 tags\n",
      "v2\n",
      "v1.5\n",
      "v1.4\n",
      "v1.3\n",
      "v1.2\n"
     ]
    }
   ],
   "source": [
    "#%% Get the tags\n",
    "\n",
    "tags = repo.get_tags()\n",
    "print(f\"Repo {repo.name} has {len(list(tags))} tags\")\n",
    "for tag in tags:\n",
    "    print(tag.name)"
   ]
  },
  {
   "cell_type": "code",
   "execution_count": null,
   "id": "d478dd97-f9d1-4c65-82ac-247ab9711620",
   "metadata": {},
   "outputs": [
    {
     "name": "stdout",
     "output_type": "stream",
     "text": [
      "Repo matlab-with-python-book has 19 forks\n",
      "angeloyeo/matlab-with-python-book\n",
      "DrRoad/matlab-with-python-book\n",
      "jloftin/matlab-with-python-book\n",
      "goswami-13/matlab-with-python-book\n",
      "vinjk/matlab-with-python-book\n",
      "Sharan-Shastri/matlab-with-python-book\n",
      "manuelcasal/matlab-with-python-book\n",
      "Anny-20/matlab-with-python-book\n",
      "saiksaketh/matlab-with-python-book\n",
      "manasdas17/matlab-with-python-book\n",
      "Tharikaa-Kumar/matlab-with-python-book\n",
      "anhnguyendepocen/matlab-with-python-book\n",
      "abhiawasthi1993/matlab-with-python-book\n",
      "EomAA/matlab-with-python-book\n",
      "alexlib/matlab-with-python-book\n",
      "bashanbro/matlab-with-python-book\n",
      "minoue-xx/matlab-with-python-book\n",
      "chandanbose/matlab-with-python-book\n",
      "dennis-kachila/matlab-with-python-book\n"
     ]
    }
   ],
   "source": [
    "#%% Get the forks\n",
    "\n",
    "forks = repo.get_forks()\n",
    "print(f\"Repo {repo.name} has {len(list(forks))} forks\")\n",
    "for fork in forks:\n",
    "    print(fork.full_name)"
   ]
  },
  {
   "cell_type": "code",
   "execution_count": null,
   "id": "047e4097-e3f3-4083-97be-37a70132d4a4",
   "metadata": {},
   "outputs": [
    {
     "name": "stdout",
     "output_type": "stream",
     "text": [
      "MIT License\n"
     ]
    }
   ],
   "source": [
    "#%% Get the license\n",
    "\n",
    "license = repo.get_license()\n",
    "print(license.license.name)"
   ]
  },
  {
   "cell_type": "code",
   "execution_count": null,
   "id": "aec78260-de88-44c3-b1dd-9956345c5b7d",
   "metadata": {},
   "outputs": [
    {
     "name": "stdout",
     "output_type": "stream",
     "text": [
      "Repo matlab-with-python-book has 24 commits\n",
      "Merge pull request #11 from yanndebray/codespace\n",
      "\n",
      "Add support for GitHub codespaces\n",
      "Add support for GitHub codespaces\n",
      "Update 2_End-to-end_project_with_MATLAB_and_Python.md\n",
      "\n",
      "Fix predictAirqual call sequence\n",
      "Update Getting Python packages on MATLAB Online\n",
      "Add support for dataframes from 24a\n",
      "Update cover to high res\n",
      "Merge branch 'main' of https://github.com/yanndebray/matlab-with-python-book\n",
      "New book format\n",
      "Update Python live task from 24a\n",
      "Add mention to VSCode extension for MATLAB\n",
      "Update on MATLAB kernel by MW\n",
      "Update Python versions supported\n",
      "Use Simulink from Jupyter\n",
      "Add devcontainer spec to spin up codespaces including MATLAB & Jupyter\n",
      "Merge pull request #3 from yanndebray/simulink\n",
      "\n",
      "Add Chap 7 on Simulink with Python\n",
      "Add Chap 7 on Simulink with Python\n",
      "Add 6.3. Leverage the work from the MATLAB community\n",
      "Add 6.2.1. Data Cleaner App\n",
      "Add the paperback print version\n",
      "Add 7.1. Getting Python packages on MATLAB Online\n",
      "Add Chapter 6. Call MATLAB from Python\n",
      "Add Chapter 5.3. Import TensorFlow model into MATLAB\n",
      "\n",
      "Demo with automated driving\n",
      "Part 1 release\n",
      "Initial commit\n"
     ]
    }
   ],
   "source": [
    "#%% Get commits for a repo\n",
    "\n",
    "commits = repo.get_commits()\n",
    "print(f\"Repo {repo.name} has {len(list(commits))} commits\")\n",
    "for commit in commits:\n",
    "    print(commit.commit.message)"
   ]
  }
 ],
 "metadata": {
  "language_info": {
   "codemirror_mode": {
    "name": "ipython",
    "version": 3
   },
   "file_extension": ".py",
   "mimetype": "text/x-python",
   "name": "python",
   "nbconvert_exporter": "python",
   "pygments_lexer": "ipython3",
   "version": 3
  }
 },
 "nbformat": 4,
 "nbformat_minor": 2
}
